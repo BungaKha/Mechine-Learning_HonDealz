{
 "cells": [
  {
   "cell_type": "code",
   "execution_count": 83,
   "metadata": {},
   "outputs": [],
   "source": [
    "import pandas as pd\n"
   ]
  },
  {
   "cell_type": "code",
   "execution_count": 84,
   "metadata": {},
   "outputs": [
    {
     "data": {
      "text/html": [
       "<div>\n",
       "<style scoped>\n",
       "    .dataframe tbody tr th:only-of-type {\n",
       "        vertical-align: middle;\n",
       "    }\n",
       "\n",
       "    .dataframe tbody tr th {\n",
       "        vertical-align: top;\n",
       "    }\n",
       "\n",
       "    .dataframe thead th {\n",
       "        text-align: right;\n",
       "    }\n",
       "</style>\n",
       "<table border=\"1\" class=\"dataframe\">\n",
       "  <thead>\n",
       "    <tr style=\"text-align: right;\">\n",
       "      <th></th>\n",
       "      <th>model</th>\n",
       "      <th>price</th>\n",
       "      <th>year</th>\n",
       "      <th>mileage</th>\n",
       "      <th>location</th>\n",
       "      <th>tax</th>\n",
       "      <th>seller_type</th>\n",
       "    </tr>\n",
       "  </thead>\n",
       "  <tbody>\n",
       "    <tr>\n",
       "      <th>0</th>\n",
       "      <td>HONDA VARIO 125 CBS ISS</td>\n",
       "      <td>Rp23,100,000</td>\n",
       "      <td>2024</td>\n",
       "      <td>2,500 km</td>\n",
       "      <td>Padang Bulan</td>\n",
       "      <td>hidup</td>\n",
       "      <td>dealer</td>\n",
       "    </tr>\n",
       "    <tr>\n",
       "      <th>1</th>\n",
       "      <td>HONDA VARIO 125 CBS ISS</td>\n",
       "      <td>Rp22,100,000</td>\n",
       "      <td>2022</td>\n",
       "      <td>15,000 km</td>\n",
       "      <td>Padang Bulan</td>\n",
       "      <td>hidup</td>\n",
       "      <td>dealer</td>\n",
       "    </tr>\n",
       "    <tr>\n",
       "      <th>2</th>\n",
       "      <td>HONDA VARIO 150 ESP EXCLSV</td>\n",
       "      <td>Rp15,750,000</td>\n",
       "      <td>2017</td>\n",
       "      <td>30,000 km</td>\n",
       "      <td>Kota Jakarta Barat</td>\n",
       "      <td>hidup</td>\n",
       "      <td>dealer</td>\n",
       "    </tr>\n",
       "    <tr>\n",
       "      <th>3</th>\n",
       "      <td>HONDA VARIO 150 ESP EXCLSV</td>\n",
       "      <td>Rp20,500,000</td>\n",
       "      <td>2020</td>\n",
       "      <td>30,000 km</td>\n",
       "      <td>Kota Jakarta Barat</td>\n",
       "      <td>hidup</td>\n",
       "      <td>dealer</td>\n",
       "    </tr>\n",
       "    <tr>\n",
       "      <th>4</th>\n",
       "      <td>HONDA VARIO 125 ESP CBS</td>\n",
       "      <td>Rp18,000,000</td>\n",
       "      <td>2018</td>\n",
       "      <td>30,000 km</td>\n",
       "      <td>Kota Denpasar</td>\n",
       "      <td>hidup</td>\n",
       "      <td>dealer</td>\n",
       "    </tr>\n",
       "    <tr>\n",
       "      <th>...</th>\n",
       "      <td>...</td>\n",
       "      <td>...</td>\n",
       "      <td>...</td>\n",
       "      <td>...</td>\n",
       "      <td>...</td>\n",
       "      <td>...</td>\n",
       "      <td>...</td>\n",
       "    </tr>\n",
       "    <tr>\n",
       "      <th>2964</th>\n",
       "      <td>Honda Vario 125 cbs iss 2022 berkualitas&amp;Berga...</td>\n",
       "      <td>Rp 21.000.000</td>\n",
       "      <td>2022</td>\n",
       "      <td>15.000-20.000 km</td>\n",
       "      <td>Cibubur, Jakarta Timur, Jakarta D.K.I.</td>\n",
       "      <td>hidup</td>\n",
       "      <td>Diler</td>\n",
       "    </tr>\n",
       "    <tr>\n",
       "      <th>2965</th>\n",
       "      <td>VARIO 125 CBS ISS 2023 GARANSI MESIN 5000 KM</td>\n",
       "      <td>Rp 22.000.000</td>\n",
       "      <td>2023</td>\n",
       "      <td>5.000-10.000 km</td>\n",
       "      <td>Ciputat, Tangerang Selatan Kota, Banten</td>\n",
       "      <td>hidup</td>\n",
       "      <td>Diler</td>\n",
       "    </tr>\n",
       "    <tr>\n",
       "      <th>2966</th>\n",
       "      <td>VARIO 125 CBS ISS 2023 GARANSI 5000 KM</td>\n",
       "      <td>Rp 22.000.000</td>\n",
       "      <td>2023</td>\n",
       "      <td>5.000-10.000 km</td>\n",
       "      <td>Bumi Serpong Damai, Tangerang Selatan Kota, Ba...</td>\n",
       "      <td>hidup</td>\n",
       "      <td>Diler</td>\n",
       "    </tr>\n",
       "    <tr>\n",
       "      <th>2967</th>\n",
       "      <td>VARIO 125 ESP CBS ISS 2023 GARANSI 1 TAHUN</td>\n",
       "      <td>Rp 22.000.000</td>\n",
       "      <td>2023</td>\n",
       "      <td>5.000-10.000 km</td>\n",
       "      <td>Cipondoh, Tangerang Kota, Banten</td>\n",
       "      <td>hidup</td>\n",
       "      <td>Diler</td>\n",
       "    </tr>\n",
       "    <tr>\n",
       "      <th>2968</th>\n",
       "      <td>VARIO 125 CBS ISS 2023 MULUS BERGARANSI 5000 KM</td>\n",
       "      <td>Rp 22.000.000</td>\n",
       "      <td>2023</td>\n",
       "      <td>5.000-10.000 km</td>\n",
       "      <td>Cibodas, Tangerang Kota, Banten</td>\n",
       "      <td>hidup</td>\n",
       "      <td>Diler</td>\n",
       "    </tr>\n",
       "  </tbody>\n",
       "</table>\n",
       "<p>2969 rows × 7 columns</p>\n",
       "</div>"
      ],
      "text/plain": [
       "                                                  model          price  year  \\\n",
       "0                               HONDA VARIO 125 CBS ISS   Rp23,100,000  2024   \n",
       "1                               HONDA VARIO 125 CBS ISS   Rp22,100,000  2022   \n",
       "2                            HONDA VARIO 150 ESP EXCLSV   Rp15,750,000  2017   \n",
       "3                            HONDA VARIO 150 ESP EXCLSV   Rp20,500,000  2020   \n",
       "4                               HONDA VARIO 125 ESP CBS   Rp18,000,000  2018   \n",
       "...                                                 ...            ...   ...   \n",
       "2964  Honda Vario 125 cbs iss 2022 berkualitas&Berga...  Rp 21.000.000  2022   \n",
       "2965       VARIO 125 CBS ISS 2023 GARANSI MESIN 5000 KM  Rp 22.000.000  2023   \n",
       "2966             VARIO 125 CBS ISS 2023 GARANSI 5000 KM  Rp 22.000.000  2023   \n",
       "2967         VARIO 125 ESP CBS ISS 2023 GARANSI 1 TAHUN  Rp 22.000.000  2023   \n",
       "2968    VARIO 125 CBS ISS 2023 MULUS BERGARANSI 5000 KM  Rp 22.000.000  2023   \n",
       "\n",
       "               mileage                                           location  \\\n",
       "0             2,500 km                                       Padang Bulan   \n",
       "1            15,000 km                                       Padang Bulan   \n",
       "2            30,000 km                                 Kota Jakarta Barat   \n",
       "3            30,000 km                                 Kota Jakarta Barat   \n",
       "4            30,000 km                                      Kota Denpasar   \n",
       "...                ...                                                ...   \n",
       "2964  15.000-20.000 km             Cibubur, Jakarta Timur, Jakarta D.K.I.   \n",
       "2965   5.000-10.000 km            Ciputat, Tangerang Selatan Kota, Banten   \n",
       "2966   5.000-10.000 km  Bumi Serpong Damai, Tangerang Selatan Kota, Ba...   \n",
       "2967   5.000-10.000 km                   Cipondoh, Tangerang Kota, Banten   \n",
       "2968   5.000-10.000 km                    Cibodas, Tangerang Kota, Banten   \n",
       "\n",
       "        tax seller_type  \n",
       "0     hidup      dealer  \n",
       "1     hidup      dealer  \n",
       "2     hidup      dealer  \n",
       "3     hidup      dealer  \n",
       "4     hidup      dealer  \n",
       "...     ...         ...  \n",
       "2964  hidup       Diler  \n",
       "2965  hidup       Diler  \n",
       "2966  hidup       Diler  \n",
       "2967  hidup       Diler  \n",
       "2968  hidup       Diler  \n",
       "\n",
       "[2969 rows x 7 columns]"
      ]
     },
     "execution_count": 84,
     "metadata": {},
     "output_type": "execute_result"
    }
   ],
   "source": [
    "dataset_df = pd.read_csv('dataset capstone.csv')\n",
    "dataset_df\n"
   ]
  },
  {
   "cell_type": "markdown",
   "metadata": {},
   "source": [
    "Price"
   ]
  },
  {
   "cell_type": "code",
   "execution_count": 85,
   "metadata": {},
   "outputs": [
    {
     "data": {
      "text/plain": [
       "0       23100000\n",
       "1       22100000\n",
       "2       15750000\n",
       "3       20500000\n",
       "4       18000000\n",
       "          ...   \n",
       "2964    21000000\n",
       "2965    22000000\n",
       "2966    22000000\n",
       "2967    22000000\n",
       "2968    22000000\n",
       "Name: price, Length: 2969, dtype: int64"
      ]
     },
     "execution_count": 85,
     "metadata": {},
     "output_type": "execute_result"
    }
   ],
   "source": [
    "dataset_df['price'] = dataset_df['price'].apply(lambda x: x.replace('Rp','').replace('.','').replace(',',''))\n",
    "dataset_df['price'] = pd.to_numeric(dataset_df['price'], errors='coerce')\n",
    "dataset_df['price']"
   ]
  },
  {
   "cell_type": "markdown",
   "metadata": {},
   "source": [
    "Miliage"
   ]
  },
  {
   "cell_type": "code",
   "execution_count": 86,
   "metadata": {},
   "outputs": [],
   "source": [
    "dataset_df['mileage'] = dataset_df['mileage'].apply(lambda x: str(x).split('-')[-2].replace(' km', '').replace('.', '')\n",
    "                                        if '-' in str(x) else str(x).replace(' km', '').replace('.', ''))\n",
    "\n"
   ]
  },
  {
   "cell_type": "code",
   "execution_count": 87,
   "metadata": {},
   "outputs": [
    {
     "data": {
      "text/plain": [
       "0        2500\n",
       "1       15000\n",
       "2       30000\n",
       "3       30000\n",
       "4       30000\n",
       "        ...  \n",
       "2964    15000\n",
       "2965     5000\n",
       "2966     5000\n",
       "2967     5000\n",
       "2968     5000\n",
       "Name: mileage, Length: 2969, dtype: object"
      ]
     },
     "execution_count": 87,
     "metadata": {},
     "output_type": "execute_result"
    }
   ],
   "source": [
    "dataset_df['mileage'] = dataset_df['mileage'].apply(lambda x: str(x).replace(',',''))\n",
    "dataset_df['mileage']"
   ]
  },
  {
   "cell_type": "code",
   "execution_count": 88,
   "metadata": {},
   "outputs": [
    {
     "data": {
      "text/plain": [
       "0        2500.0\n",
       "1       15000.0\n",
       "2       30000.0\n",
       "3       30000.0\n",
       "4       30000.0\n",
       "         ...   \n",
       "2964    15000.0\n",
       "2965     5000.0\n",
       "2966     5000.0\n",
       "2967     5000.0\n",
       "2968     5000.0\n",
       "Name: mileage, Length: 2969, dtype: float64"
      ]
     },
     "execution_count": 88,
     "metadata": {},
     "output_type": "execute_result"
    }
   ],
   "source": [
    "dataset_df['mileage'] = pd.to_numeric(dataset_df['mileage'], errors='coerce')\n",
    "dataset_df['mileage']"
   ]
  },
  {
   "cell_type": "markdown",
   "metadata": {},
   "source": [
    "CLEANING DATA"
   ]
  },
  {
   "cell_type": "code",
   "execution_count": 89,
   "metadata": {},
   "outputs": [],
   "source": [
    "import numpy as np\n",
    "import pandas as pd\n",
    "import matplotlib.pyplot as plt\n",
    "import seaborn as sns"
   ]
  },
  {
   "cell_type": "code",
   "execution_count": 90,
   "metadata": {},
   "outputs": [
    {
     "data": {
      "text/html": [
       "<div>\n",
       "<style scoped>\n",
       "    .dataframe tbody tr th:only-of-type {\n",
       "        vertical-align: middle;\n",
       "    }\n",
       "\n",
       "    .dataframe tbody tr th {\n",
       "        vertical-align: top;\n",
       "    }\n",
       "\n",
       "    .dataframe thead th {\n",
       "        text-align: right;\n",
       "    }\n",
       "</style>\n",
       "<table border=\"1\" class=\"dataframe\">\n",
       "  <thead>\n",
       "    <tr style=\"text-align: right;\">\n",
       "      <th></th>\n",
       "      <th>model</th>\n",
       "      <th>price</th>\n",
       "      <th>year</th>\n",
       "      <th>mileage</th>\n",
       "      <th>location</th>\n",
       "      <th>tax</th>\n",
       "      <th>seller_type</th>\n",
       "    </tr>\n",
       "  </thead>\n",
       "  <tbody>\n",
       "    <tr>\n",
       "      <th>0</th>\n",
       "      <td>HONDA VARIO 125 CBS ISS</td>\n",
       "      <td>Rp23,100,000</td>\n",
       "      <td>2024</td>\n",
       "      <td>2,500 km</td>\n",
       "      <td>Padang Bulan</td>\n",
       "      <td>hidup</td>\n",
       "      <td>dealer</td>\n",
       "    </tr>\n",
       "    <tr>\n",
       "      <th>1</th>\n",
       "      <td>HONDA VARIO 125 CBS ISS</td>\n",
       "      <td>Rp22,100,000</td>\n",
       "      <td>2022</td>\n",
       "      <td>15,000 km</td>\n",
       "      <td>Padang Bulan</td>\n",
       "      <td>hidup</td>\n",
       "      <td>dealer</td>\n",
       "    </tr>\n",
       "    <tr>\n",
       "      <th>2</th>\n",
       "      <td>HONDA VARIO 150 ESP EXCLSV</td>\n",
       "      <td>Rp15,750,000</td>\n",
       "      <td>2017</td>\n",
       "      <td>30,000 km</td>\n",
       "      <td>Kota Jakarta Barat</td>\n",
       "      <td>hidup</td>\n",
       "      <td>dealer</td>\n",
       "    </tr>\n",
       "    <tr>\n",
       "      <th>3</th>\n",
       "      <td>HONDA VARIO 150 ESP EXCLSV</td>\n",
       "      <td>Rp20,500,000</td>\n",
       "      <td>2020</td>\n",
       "      <td>30,000 km</td>\n",
       "      <td>Kota Jakarta Barat</td>\n",
       "      <td>hidup</td>\n",
       "      <td>dealer</td>\n",
       "    </tr>\n",
       "    <tr>\n",
       "      <th>4</th>\n",
       "      <td>HONDA VARIO 125 ESP CBS</td>\n",
       "      <td>Rp18,000,000</td>\n",
       "      <td>2018</td>\n",
       "      <td>30,000 km</td>\n",
       "      <td>Kota Denpasar</td>\n",
       "      <td>hidup</td>\n",
       "      <td>dealer</td>\n",
       "    </tr>\n",
       "    <tr>\n",
       "      <th>...</th>\n",
       "      <td>...</td>\n",
       "      <td>...</td>\n",
       "      <td>...</td>\n",
       "      <td>...</td>\n",
       "      <td>...</td>\n",
       "      <td>...</td>\n",
       "      <td>...</td>\n",
       "    </tr>\n",
       "    <tr>\n",
       "      <th>2964</th>\n",
       "      <td>Honda Vario 125 cbs iss 2022 berkualitas&amp;Berga...</td>\n",
       "      <td>Rp 21.000.000</td>\n",
       "      <td>2022</td>\n",
       "      <td>15.000-20.000 km</td>\n",
       "      <td>Cibubur, Jakarta Timur, Jakarta D.K.I.</td>\n",
       "      <td>hidup</td>\n",
       "      <td>Diler</td>\n",
       "    </tr>\n",
       "    <tr>\n",
       "      <th>2965</th>\n",
       "      <td>VARIO 125 CBS ISS 2023 GARANSI MESIN 5000 KM</td>\n",
       "      <td>Rp 22.000.000</td>\n",
       "      <td>2023</td>\n",
       "      <td>5.000-10.000 km</td>\n",
       "      <td>Ciputat, Tangerang Selatan Kota, Banten</td>\n",
       "      <td>hidup</td>\n",
       "      <td>Diler</td>\n",
       "    </tr>\n",
       "    <tr>\n",
       "      <th>2966</th>\n",
       "      <td>VARIO 125 CBS ISS 2023 GARANSI 5000 KM</td>\n",
       "      <td>Rp 22.000.000</td>\n",
       "      <td>2023</td>\n",
       "      <td>5.000-10.000 km</td>\n",
       "      <td>Bumi Serpong Damai, Tangerang Selatan Kota, Ba...</td>\n",
       "      <td>hidup</td>\n",
       "      <td>Diler</td>\n",
       "    </tr>\n",
       "    <tr>\n",
       "      <th>2967</th>\n",
       "      <td>VARIO 125 ESP CBS ISS 2023 GARANSI 1 TAHUN</td>\n",
       "      <td>Rp 22.000.000</td>\n",
       "      <td>2023</td>\n",
       "      <td>5.000-10.000 km</td>\n",
       "      <td>Cipondoh, Tangerang Kota, Banten</td>\n",
       "      <td>hidup</td>\n",
       "      <td>Diler</td>\n",
       "    </tr>\n",
       "    <tr>\n",
       "      <th>2968</th>\n",
       "      <td>VARIO 125 CBS ISS 2023 MULUS BERGARANSI 5000 KM</td>\n",
       "      <td>Rp 22.000.000</td>\n",
       "      <td>2023</td>\n",
       "      <td>5.000-10.000 km</td>\n",
       "      <td>Cibodas, Tangerang Kota, Banten</td>\n",
       "      <td>hidup</td>\n",
       "      <td>Diler</td>\n",
       "    </tr>\n",
       "  </tbody>\n",
       "</table>\n",
       "<p>2969 rows × 7 columns</p>\n",
       "</div>"
      ],
      "text/plain": [
       "                                                  model          price  year  \\\n",
       "0                               HONDA VARIO 125 CBS ISS   Rp23,100,000  2024   \n",
       "1                               HONDA VARIO 125 CBS ISS   Rp22,100,000  2022   \n",
       "2                            HONDA VARIO 150 ESP EXCLSV   Rp15,750,000  2017   \n",
       "3                            HONDA VARIO 150 ESP EXCLSV   Rp20,500,000  2020   \n",
       "4                               HONDA VARIO 125 ESP CBS   Rp18,000,000  2018   \n",
       "...                                                 ...            ...   ...   \n",
       "2964  Honda Vario 125 cbs iss 2022 berkualitas&Berga...  Rp 21.000.000  2022   \n",
       "2965       VARIO 125 CBS ISS 2023 GARANSI MESIN 5000 KM  Rp 22.000.000  2023   \n",
       "2966             VARIO 125 CBS ISS 2023 GARANSI 5000 KM  Rp 22.000.000  2023   \n",
       "2967         VARIO 125 ESP CBS ISS 2023 GARANSI 1 TAHUN  Rp 22.000.000  2023   \n",
       "2968    VARIO 125 CBS ISS 2023 MULUS BERGARANSI 5000 KM  Rp 22.000.000  2023   \n",
       "\n",
       "               mileage                                           location  \\\n",
       "0             2,500 km                                       Padang Bulan   \n",
       "1            15,000 km                                       Padang Bulan   \n",
       "2            30,000 km                                 Kota Jakarta Barat   \n",
       "3            30,000 km                                 Kota Jakarta Barat   \n",
       "4            30,000 km                                      Kota Denpasar   \n",
       "...                ...                                                ...   \n",
       "2964  15.000-20.000 km             Cibubur, Jakarta Timur, Jakarta D.K.I.   \n",
       "2965   5.000-10.000 km            Ciputat, Tangerang Selatan Kota, Banten   \n",
       "2966   5.000-10.000 km  Bumi Serpong Damai, Tangerang Selatan Kota, Ba...   \n",
       "2967   5.000-10.000 km                   Cipondoh, Tangerang Kota, Banten   \n",
       "2968   5.000-10.000 km                    Cibodas, Tangerang Kota, Banten   \n",
       "\n",
       "        tax seller_type  \n",
       "0     hidup      dealer  \n",
       "1     hidup      dealer  \n",
       "2     hidup      dealer  \n",
       "3     hidup      dealer  \n",
       "4     hidup      dealer  \n",
       "...     ...         ...  \n",
       "2964  hidup       Diler  \n",
       "2965  hidup       Diler  \n",
       "2966  hidup       Diler  \n",
       "2967  hidup       Diler  \n",
       "2968  hidup       Diler  \n",
       "\n",
       "[2969 rows x 7 columns]"
      ]
     },
     "execution_count": 90,
     "metadata": {},
     "output_type": "execute_result"
    }
   ],
   "source": [
    "dataset_df = pd.read_csv(\"dataset capstone.csv\", encoding='latin-1')\n",
    "dataset_df"
   ]
  },
  {
   "cell_type": "code",
   "execution_count": 91,
   "metadata": {},
   "outputs": [
    {
     "name": "stdout",
     "output_type": "stream",
     "text": [
      "<class 'pandas.core.frame.DataFrame'>\n",
      "RangeIndex: 2969 entries, 0 to 2968\n",
      "Data columns (total 7 columns):\n",
      " #   Column       Non-Null Count  Dtype \n",
      "---  ------       --------------  ----- \n",
      " 0   model        2969 non-null   object\n",
      " 1   price        2969 non-null   object\n",
      " 2   year         2969 non-null   int64 \n",
      " 3   mileage      2969 non-null   object\n",
      " 4   location     2955 non-null   object\n",
      " 5   tax          2969 non-null   object\n",
      " 6   seller_type  2969 non-null   object\n",
      "dtypes: int64(1), object(6)\n",
      "memory usage: 162.5+ KB\n"
     ]
    }
   ],
   "source": [
    "dataset_df.info()"
   ]
  },
  {
   "cell_type": "markdown",
   "metadata": {},
   "source": [
    "Terdapat sedikit perbedaan pada jumlah data pada kolom milieage dan location, hal ini menunjukkan adanya missing values pada 2 kolom tersebut\n"
   ]
  },
  {
   "cell_type": "code",
   "execution_count": 92,
   "metadata": {},
   "outputs": [
    {
     "data": {
      "text/plain": [
       "model           0\n",
       "price           0\n",
       "year            0\n",
       "mileage         0\n",
       "location       14\n",
       "tax             0\n",
       "seller_type     0\n",
       "dtype: int64"
      ]
     },
     "execution_count": 92,
     "metadata": {},
     "output_type": "execute_result"
    }
   ],
   "source": [
    "dataset_df.isna().sum()"
   ]
  },
  {
   "cell_type": "markdown",
   "metadata": {},
   "source": [
    "terdapat 15 Missing Value pada kolom location dan 1 Missing Value pada kolom mileage\n"
   ]
  },
  {
   "cell_type": "markdown",
   "metadata": {},
   "source": [
    "Menangani duplikasi data"
   ]
  },
  {
   "cell_type": "code",
   "execution_count": 93,
   "metadata": {},
   "outputs": [],
   "source": [
    "dataset_df.drop_duplicates(inplace=True)"
   ]
  },
  {
   "cell_type": "code",
   "execution_count": 94,
   "metadata": {},
   "outputs": [
    {
     "name": "stdout",
     "output_type": "stream",
     "text": [
      "Jumlah duplikasi:  0\n"
     ]
    }
   ],
   "source": [
    "print(\"Jumlah duplikasi: \",dataset_df.duplicated().sum())"
   ]
  },
  {
   "cell_type": "code",
   "execution_count": 95,
   "metadata": {},
   "outputs": [
    {
     "data": {
      "text/html": [
       "<div>\n",
       "<style scoped>\n",
       "    .dataframe tbody tr th:only-of-type {\n",
       "        vertical-align: middle;\n",
       "    }\n",
       "\n",
       "    .dataframe tbody tr th {\n",
       "        vertical-align: top;\n",
       "    }\n",
       "\n",
       "    .dataframe thead th {\n",
       "        text-align: right;\n",
       "    }\n",
       "</style>\n",
       "<table border=\"1\" class=\"dataframe\">\n",
       "  <thead>\n",
       "    <tr style=\"text-align: right;\">\n",
       "      <th></th>\n",
       "      <th>model</th>\n",
       "      <th>price</th>\n",
       "      <th>year</th>\n",
       "      <th>mileage</th>\n",
       "      <th>location</th>\n",
       "      <th>tax</th>\n",
       "      <th>seller_type</th>\n",
       "    </tr>\n",
       "  </thead>\n",
       "  <tbody>\n",
       "    <tr>\n",
       "      <th>0</th>\n",
       "      <td>HONDA VARIO 125 CBS ISS</td>\n",
       "      <td>Rp23,100,000</td>\n",
       "      <td>2024</td>\n",
       "      <td>2,500 km</td>\n",
       "      <td>Padang Bulan</td>\n",
       "      <td>hidup</td>\n",
       "      <td>dealer</td>\n",
       "    </tr>\n",
       "    <tr>\n",
       "      <th>1</th>\n",
       "      <td>HONDA VARIO 125 CBS ISS</td>\n",
       "      <td>Rp22,100,000</td>\n",
       "      <td>2022</td>\n",
       "      <td>15,000 km</td>\n",
       "      <td>Padang Bulan</td>\n",
       "      <td>hidup</td>\n",
       "      <td>dealer</td>\n",
       "    </tr>\n",
       "    <tr>\n",
       "      <th>2</th>\n",
       "      <td>HONDA VARIO 150 ESP EXCLSV</td>\n",
       "      <td>Rp15,750,000</td>\n",
       "      <td>2017</td>\n",
       "      <td>30,000 km</td>\n",
       "      <td>Kota Jakarta Barat</td>\n",
       "      <td>hidup</td>\n",
       "      <td>dealer</td>\n",
       "    </tr>\n",
       "    <tr>\n",
       "      <th>3</th>\n",
       "      <td>HONDA VARIO 150 ESP EXCLSV</td>\n",
       "      <td>Rp20,500,000</td>\n",
       "      <td>2020</td>\n",
       "      <td>30,000 km</td>\n",
       "      <td>Kota Jakarta Barat</td>\n",
       "      <td>hidup</td>\n",
       "      <td>dealer</td>\n",
       "    </tr>\n",
       "    <tr>\n",
       "      <th>4</th>\n",
       "      <td>HONDA VARIO 125 ESP CBS</td>\n",
       "      <td>Rp18,000,000</td>\n",
       "      <td>2018</td>\n",
       "      <td>30,000 km</td>\n",
       "      <td>Kota Denpasar</td>\n",
       "      <td>hidup</td>\n",
       "      <td>dealer</td>\n",
       "    </tr>\n",
       "    <tr>\n",
       "      <th>...</th>\n",
       "      <td>...</td>\n",
       "      <td>...</td>\n",
       "      <td>...</td>\n",
       "      <td>...</td>\n",
       "      <td>...</td>\n",
       "      <td>...</td>\n",
       "      <td>...</td>\n",
       "    </tr>\n",
       "    <tr>\n",
       "      <th>2964</th>\n",
       "      <td>Honda Vario 125 cbs iss 2022 berkualitas&amp;Berga...</td>\n",
       "      <td>Rp 21.000.000</td>\n",
       "      <td>2022</td>\n",
       "      <td>15.000-20.000 km</td>\n",
       "      <td>Cibubur, Jakarta Timur, Jakarta D.K.I.</td>\n",
       "      <td>hidup</td>\n",
       "      <td>Diler</td>\n",
       "    </tr>\n",
       "    <tr>\n",
       "      <th>2965</th>\n",
       "      <td>VARIO 125 CBS ISS 2023 GARANSI MESIN 5000 KM</td>\n",
       "      <td>Rp 22.000.000</td>\n",
       "      <td>2023</td>\n",
       "      <td>5.000-10.000 km</td>\n",
       "      <td>Ciputat, Tangerang Selatan Kota, Banten</td>\n",
       "      <td>hidup</td>\n",
       "      <td>Diler</td>\n",
       "    </tr>\n",
       "    <tr>\n",
       "      <th>2966</th>\n",
       "      <td>VARIO 125 CBS ISS 2023 GARANSI 5000 KM</td>\n",
       "      <td>Rp 22.000.000</td>\n",
       "      <td>2023</td>\n",
       "      <td>5.000-10.000 km</td>\n",
       "      <td>Bumi Serpong Damai, Tangerang Selatan Kota, Ba...</td>\n",
       "      <td>hidup</td>\n",
       "      <td>Diler</td>\n",
       "    </tr>\n",
       "    <tr>\n",
       "      <th>2967</th>\n",
       "      <td>VARIO 125 ESP CBS ISS 2023 GARANSI 1 TAHUN</td>\n",
       "      <td>Rp 22.000.000</td>\n",
       "      <td>2023</td>\n",
       "      <td>5.000-10.000 km</td>\n",
       "      <td>Cipondoh, Tangerang Kota, Banten</td>\n",
       "      <td>hidup</td>\n",
       "      <td>Diler</td>\n",
       "    </tr>\n",
       "    <tr>\n",
       "      <th>2968</th>\n",
       "      <td>VARIO 125 CBS ISS 2023 MULUS BERGARANSI 5000 KM</td>\n",
       "      <td>Rp 22.000.000</td>\n",
       "      <td>2023</td>\n",
       "      <td>5.000-10.000 km</td>\n",
       "      <td>Cibodas, Tangerang Kota, Banten</td>\n",
       "      <td>hidup</td>\n",
       "      <td>Diler</td>\n",
       "    </tr>\n",
       "  </tbody>\n",
       "</table>\n",
       "<p>1587 rows × 7 columns</p>\n",
       "</div>"
      ],
      "text/plain": [
       "                                                  model          price  year  \\\n",
       "0                               HONDA VARIO 125 CBS ISS   Rp23,100,000  2024   \n",
       "1                               HONDA VARIO 125 CBS ISS   Rp22,100,000  2022   \n",
       "2                            HONDA VARIO 150 ESP EXCLSV   Rp15,750,000  2017   \n",
       "3                            HONDA VARIO 150 ESP EXCLSV   Rp20,500,000  2020   \n",
       "4                               HONDA VARIO 125 ESP CBS   Rp18,000,000  2018   \n",
       "...                                                 ...            ...   ...   \n",
       "2964  Honda Vario 125 cbs iss 2022 berkualitas&Berga...  Rp 21.000.000  2022   \n",
       "2965       VARIO 125 CBS ISS 2023 GARANSI MESIN 5000 KM  Rp 22.000.000  2023   \n",
       "2966             VARIO 125 CBS ISS 2023 GARANSI 5000 KM  Rp 22.000.000  2023   \n",
       "2967         VARIO 125 ESP CBS ISS 2023 GARANSI 1 TAHUN  Rp 22.000.000  2023   \n",
       "2968    VARIO 125 CBS ISS 2023 MULUS BERGARANSI 5000 KM  Rp 22.000.000  2023   \n",
       "\n",
       "               mileage                                           location  \\\n",
       "0             2,500 km                                       Padang Bulan   \n",
       "1            15,000 km                                       Padang Bulan   \n",
       "2            30,000 km                                 Kota Jakarta Barat   \n",
       "3            30,000 km                                 Kota Jakarta Barat   \n",
       "4            30,000 km                                      Kota Denpasar   \n",
       "...                ...                                                ...   \n",
       "2964  15.000-20.000 km             Cibubur, Jakarta Timur, Jakarta D.K.I.   \n",
       "2965   5.000-10.000 km            Ciputat, Tangerang Selatan Kota, Banten   \n",
       "2966   5.000-10.000 km  Bumi Serpong Damai, Tangerang Selatan Kota, Ba...   \n",
       "2967   5.000-10.000 km                   Cipondoh, Tangerang Kota, Banten   \n",
       "2968   5.000-10.000 km                    Cibodas, Tangerang Kota, Banten   \n",
       "\n",
       "        tax seller_type  \n",
       "0     hidup      dealer  \n",
       "1     hidup      dealer  \n",
       "2     hidup      dealer  \n",
       "3     hidup      dealer  \n",
       "4     hidup      dealer  \n",
       "...     ...         ...  \n",
       "2964  hidup       Diler  \n",
       "2965  hidup       Diler  \n",
       "2966  hidup       Diler  \n",
       "2967  hidup       Diler  \n",
       "2968  hidup       Diler  \n",
       "\n",
       "[1587 rows x 7 columns]"
      ]
     },
     "execution_count": 95,
     "metadata": {},
     "output_type": "execute_result"
    }
   ],
   "source": [
    "data_cleaning= dataset_df\n",
    "data_cleaning"
   ]
  },
  {
   "cell_type": "markdown",
   "metadata": {},
   "source": [
    "Menangani Missing Value"
   ]
  },
  {
   "cell_type": "code",
   "execution_count": 96,
   "metadata": {},
   "outputs": [
    {
     "data": {
      "text/plain": [
       "location\n",
       "Kab. Bandung                              122\n",
       "Kota Depok                                119\n",
       "Kota Jakarta Timur                        113\n",
       "Kota Tangerang Selatan                     95\n",
       "Kota Denpasar                              95\n",
       "                                         ... \n",
       "Ngaglik, Sleman Kab., Yogyakarta D.I.       1\n",
       "Tambora, Jakarta Barat, Jakarta D.K.I.      1\n",
       "Jatiasih, Bekasi Kota, Jawa Barat           1\n",
       "Bekasi Timur, Bekasi Kota, Jawa Barat       1\n",
       "Cipondoh, Tangerang Kota, Banten            1\n",
       "Name: count, Length: 154, dtype: int64"
      ]
     },
     "execution_count": 96,
     "metadata": {},
     "output_type": "execute_result"
    }
   ],
   "source": [
    "data_cleaning.location.value_counts()"
   ]
  },
  {
   "cell_type": "code",
   "execution_count": 98,
   "metadata": {},
   "outputs": [],
   "source": [
    "data_cleaning.location.fillna(value=\"Kab.Bandung\", inplace=True)"
   ]
  },
  {
   "cell_type": "code",
   "execution_count": 99,
   "metadata": {},
   "outputs": [
    {
     "data": {
      "text/plain": [
       "mileage\n",
       "30,000 km            610\n",
       "15,000 km            499\n",
       "7,500 km             247\n",
       "2,500 km              98\n",
       "500 km                28\n",
       "15.000-20.000 km      22\n",
       "5.000-10.000 km       22\n",
       "0-5.000 km            12\n",
       "10.000-15.000 km      10\n",
       "20.000-25.000 km       7\n",
       "30.000-35.000 km       6\n",
       "45.000-50.000 km       4\n",
       "55.000-60.000 km       4\n",
       "35.000-40.000 km       2\n",
       "60.000-65.000 km       2\n",
       "35,000 km              2\n",
       "85.000-90.000 km       2\n",
       "none                   2\n",
       "80.000-85.000 km       2\n",
       "3,000 km               1\n",
       "1,000 km               1\n",
       "95.000-100.000 km      1\n",
       "40.000-45.000 km       1\n",
       "50.000-55.000 km       1\n",
       "75.000-80.000 km       1\n",
       "Name: count, dtype: int64"
      ]
     },
     "execution_count": 99,
     "metadata": {},
     "output_type": "execute_result"
    }
   ],
   "source": [
    "data_cleaning.mileage.value_counts()"
   ]
  },
  {
   "cell_type": "code",
   "execution_count": 100,
   "metadata": {},
   "outputs": [
    {
     "data": {
      "text/plain": [
       "model          0\n",
       "price          0\n",
       "year           0\n",
       "mileage        0\n",
       "location       0\n",
       "tax            0\n",
       "seller_type    0\n",
       "dtype: int64"
      ]
     },
     "execution_count": 100,
     "metadata": {},
     "output_type": "execute_result"
    }
   ],
   "source": [
    "data_cleaning.isna().sum()"
   ]
  },
  {
   "cell_type": "code",
   "execution_count": 101,
   "metadata": {},
   "outputs": [],
   "source": [
    "data_cleaning.to_csv('dataset setelah cleaning.csv', index=False)"
   ]
  }
 ],
 "metadata": {
  "kernelspec": {
   "display_name": "Python 3",
   "language": "python",
   "name": "python3"
  },
  "language_info": {
   "codemirror_mode": {
    "name": "ipython",
    "version": 3
   },
   "file_extension": ".py",
   "mimetype": "text/x-python",
   "name": "python",
   "nbconvert_exporter": "python",
   "pygments_lexer": "ipython3",
   "version": "3.13.0"
  }
 },
 "nbformat": 4,
 "nbformat_minor": 2
}
