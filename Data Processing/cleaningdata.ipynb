{
 "cells": [
  {
   "cell_type": "code",
   "execution_count": 30,
   "metadata": {},
   "outputs": [],
   "source": [
    "import numpy as np\n",
    "import pandas as pd\n",
    "import matplotlib.pyplot as plt\n",
    "import seaborn as sns"
   ]
  },
  {
   "cell_type": "code",
   "execution_count": 31,
   "metadata": {},
   "outputs": [
    {
     "data": {
      "text/html": [
       "<div>\n",
       "<style scoped>\n",
       "    .dataframe tbody tr th:only-of-type {\n",
       "        vertical-align: middle;\n",
       "    }\n",
       "\n",
       "    .dataframe tbody tr th {\n",
       "        vertical-align: top;\n",
       "    }\n",
       "\n",
       "    .dataframe thead th {\n",
       "        text-align: right;\n",
       "    }\n",
       "</style>\n",
       "<table border=\"1\" class=\"dataframe\">\n",
       "  <thead>\n",
       "    <tr style=\"text-align: right;\">\n",
       "      <th></th>\n",
       "      <th>model</th>\n",
       "      <th>price</th>\n",
       "      <th>year</th>\n",
       "      <th>mileage</th>\n",
       "      <th>location</th>\n",
       "      <th>tax</th>\n",
       "      <th>seller_type</th>\n",
       "    </tr>\n",
       "  </thead>\n",
       "  <tbody>\n",
       "    <tr>\n",
       "      <th>0</th>\n",
       "      <td>HONDA ALN VARIO 160 ABS</td>\n",
       "      <td>24800000.0</td>\n",
       "      <td>2023.0</td>\n",
       "      <td>15,000</td>\n",
       "      <td>Karah</td>\n",
       "      <td>hidup</td>\n",
       "      <td>dealer</td>\n",
       "    </tr>\n",
       "    <tr>\n",
       "      <th>1</th>\n",
       "      <td>HONDA VARIO 150 ESP EXCLSV</td>\n",
       "      <td>18900000.0</td>\n",
       "      <td>2018.0</td>\n",
       "      <td>30,000</td>\n",
       "      <td>Kota Bambu Utara</td>\n",
       "      <td>hidup</td>\n",
       "      <td>dealer</td>\n",
       "    </tr>\n",
       "    <tr>\n",
       "      <th>2</th>\n",
       "      <td>HONDA VARIO 125 ESPCBS ISS</td>\n",
       "      <td>18500000.0</td>\n",
       "      <td>2018.0</td>\n",
       "      <td>30,000</td>\n",
       "      <td>Gading</td>\n",
       "      <td>hidup</td>\n",
       "      <td>dealer</td>\n",
       "    </tr>\n",
       "    <tr>\n",
       "      <th>3</th>\n",
       "      <td>HONDA VARIO 125ESP CBS ISS</td>\n",
       "      <td>16600000.0</td>\n",
       "      <td>2018.0</td>\n",
       "      <td>30,000</td>\n",
       "      <td>Kota Bekasi</td>\n",
       "      <td>hidup</td>\n",
       "      <td>dealer</td>\n",
       "    </tr>\n",
       "    <tr>\n",
       "      <th>4</th>\n",
       "      <td>HONDA VARIO 150 ESP EXCLSV</td>\n",
       "      <td>17200000.0</td>\n",
       "      <td>2017.0</td>\n",
       "      <td>30,000</td>\n",
       "      <td>Kota Tangerang Selatan</td>\n",
       "      <td>hidup</td>\n",
       "      <td>dealer</td>\n",
       "    </tr>\n",
       "    <tr>\n",
       "      <th>...</th>\n",
       "      <td>...</td>\n",
       "      <td>...</td>\n",
       "      <td>...</td>\n",
       "      <td>...</td>\n",
       "      <td>...</td>\n",
       "      <td>...</td>\n",
       "      <td>...</td>\n",
       "    </tr>\n",
       "    <tr>\n",
       "      <th>5658</th>\n",
       "      <td>0 yamaha aerox 155 LED 2023 bln 10 freego nma...</td>\n",
       "      <td>24200000.0</td>\n",
       "      <td>2023.0</td>\n",
       "      <td>0-5.000</td>\n",
       "      <td>Mampang Prapatan, Jakarta Selatan, Jakarta D.K.I.</td>\n",
       "      <td>panjang</td>\n",
       "      <td>Diler</td>\n",
       "    </tr>\n",
       "    <tr>\n",
       "      <th>5659</th>\n",
       "      <td>VARIO 150 LED NEW THN 2018 AHIR PAJAK  BULN 12...</td>\n",
       "      <td>17500000.0</td>\n",
       "      <td>2018.0</td>\n",
       "      <td>25.000-30.000</td>\n",
       "      <td>Mampang Prapatan, Jakarta Selatan, Jakarta D.K.I.</td>\n",
       "      <td>super</td>\n",
       "      <td>Diler</td>\n",
       "    </tr>\n",
       "    <tr>\n",
       "      <th>5660</th>\n",
       "      <td>Vario125cc istimewahh, buku servish masih ada</td>\n",
       "      <td>19900000.0</td>\n",
       "      <td>2023.0</td>\n",
       "      <td>10.000-15.000</td>\n",
       "      <td>Kemayoran, Jakarta Pusat, Jakarta D.K.I.</td>\n",
       "      <td>onrumah</td>\n",
       "      <td>Diler</td>\n",
       "    </tr>\n",
       "    <tr>\n",
       "      <th>5661</th>\n",
       "      <td>HONDA VARIO 150 2021 SIAP PAKAI (CASH/KREDIT)</td>\n",
       "      <td>21300000.0</td>\n",
       "      <td>2021.0</td>\n",
       "      <td>NaN</td>\n",
       "      <td>Pancoran Mas, Depok Kota, Jawa Barat</td>\n",
       "      <td>hidup*</td>\n",
       "      <td>unknown</td>\n",
       "    </tr>\n",
       "    <tr>\n",
       "      <th>5662</th>\n",
       "      <td>NaN</td>\n",
       "      <td>NaN</td>\n",
       "      <td>NaN</td>\n",
       "      <td>55.000-60.000</td>\n",
       "      <td>NaN</td>\n",
       "      <td>NaN</td>\n",
       "      <td>NaN</td>\n",
       "    </tr>\n",
       "  </tbody>\n",
       "</table>\n",
       "<p>5663 rows × 7 columns</p>\n",
       "</div>"
      ],
      "text/plain": [
       "                                                  model       price    year  \\\n",
       "0                               HONDA ALN VARIO 160 ABS  24800000.0  2023.0   \n",
       "1                            HONDA VARIO 150 ESP EXCLSV  18900000.0  2018.0   \n",
       "2                            HONDA VARIO 125 ESPCBS ISS  18500000.0  2018.0   \n",
       "3                            HONDA VARIO 125ESP CBS ISS  16600000.0  2018.0   \n",
       "4                            HONDA VARIO 150 ESP EXCLSV  17200000.0  2017.0   \n",
       "...                                                 ...         ...     ...   \n",
       "5658   0 yamaha aerox 155 LED 2023 bln 10 freego nma...  24200000.0  2023.0   \n",
       "5659  VARIO 150 LED NEW THN 2018 AHIR PAJAK  BULN 12...  17500000.0  2018.0   \n",
       "5660      Vario125cc istimewahh, buku servish masih ada  19900000.0  2023.0   \n",
       "5661      HONDA VARIO 150 2021 SIAP PAKAI (CASH/KREDIT)  21300000.0  2021.0   \n",
       "5662                                                NaN         NaN     NaN   \n",
       "\n",
       "             mileage                                           location  \\\n",
       "0             15,000                                              Karah   \n",
       "1             30,000                                   Kota Bambu Utara   \n",
       "2             30,000                                             Gading   \n",
       "3             30,000                                        Kota Bekasi   \n",
       "4             30,000                             Kota Tangerang Selatan   \n",
       "...              ...                                                ...   \n",
       "5658        0-5.000   Mampang Prapatan, Jakarta Selatan, Jakarta D.K.I.   \n",
       "5659  25.000-30.000   Mampang Prapatan, Jakarta Selatan, Jakarta D.K.I.   \n",
       "5660  10.000-15.000            Kemayoran, Jakarta Pusat, Jakarta D.K.I.   \n",
       "5661             NaN               Pancoran Mas, Depok Kota, Jawa Barat   \n",
       "5662  55.000-60.000                                                 NaN   \n",
       "\n",
       "          tax seller_type  \n",
       "0       hidup      dealer  \n",
       "1       hidup      dealer  \n",
       "2       hidup      dealer  \n",
       "3       hidup      dealer  \n",
       "4       hidup      dealer  \n",
       "...       ...         ...  \n",
       "5658  panjang       Diler  \n",
       "5659    super       Diler  \n",
       "5660  onrumah       Diler  \n",
       "5661   hidup*     unknown  \n",
       "5662      NaN         NaN  \n",
       "\n",
       "[5663 rows x 7 columns]"
      ]
     },
     "execution_count": 31,
     "metadata": {},
     "output_type": "execute_result"
    }
   ],
   "source": [
    "dataset_df = pd.read_csv(\"dataset capstone.csv\", encoding='latin-1')\n",
    "dataset_df"
   ]
  },
  {
   "cell_type": "code",
   "execution_count": 32,
   "metadata": {},
   "outputs": [
    {
     "name": "stdout",
     "output_type": "stream",
     "text": [
      "<class 'pandas.core.frame.DataFrame'>\n",
      "RangeIndex: 5663 entries, 0 to 5662\n",
      "Data columns (total 7 columns):\n",
      " #   Column       Non-Null Count  Dtype  \n",
      "---  ------       --------------  -----  \n",
      " 0   model        5662 non-null   object \n",
      " 1   price        5662 non-null   float64\n",
      " 2   year         5662 non-null   float64\n",
      " 3   mileage      5127 non-null   object \n",
      " 4   location     5609 non-null   object \n",
      " 5   tax          5408 non-null   object \n",
      " 6   seller_type  5662 non-null   object \n",
      "dtypes: float64(2), object(5)\n",
      "memory usage: 309.8+ KB\n"
     ]
    }
   ],
   "source": [
    "dataset_df.info()"
   ]
  },
  {
   "cell_type": "markdown",
   "metadata": {},
   "source": [
    "Terdapat sedikit perbedaan pada jumlah data pada kolom milieage dan tax, hal ini menunjukkan adanya missing values pada 2 kolom tersebut"
   ]
  },
  {
   "cell_type": "code",
   "execution_count": 35,
   "metadata": {},
   "outputs": [
    {
     "data": {
      "text/plain": [
       "model            1\n",
       "price            1\n",
       "year             1\n",
       "mileage        536\n",
       "location        54\n",
       "tax            255\n",
       "seller_type      1\n",
       "dtype: int64"
      ]
     },
     "execution_count": 35,
     "metadata": {},
     "output_type": "execute_result"
    }
   ],
   "source": [
    "dataset_df.isna().sum()"
   ]
  },
  {
   "cell_type": "markdown",
   "metadata": {},
   "source": [
    "terdapat 502 Missing Value pada kolom mileage dan 189 Missing Value pada kolom tax"
   ]
  },
  {
   "cell_type": "code",
   "execution_count": 36,
   "metadata": {},
   "outputs": [
    {
     "name": "stdout",
     "output_type": "stream",
     "text": [
      "Jumlah duplikasi:  3571\n"
     ]
    }
   ],
   "source": [
    "#memeriksa duplikasi data\n",
    "print(\"Jumlah duplikasi: \", dataset_df.duplicated().sum())"
   ]
  },
  {
   "cell_type": "markdown",
   "metadata": {},
   "source": [
    "terdapat 2105 duplikasi data"
   ]
  },
  {
   "cell_type": "code",
   "execution_count": 6,
   "metadata": {},
   "outputs": [],
   "source": [
    "#menghilangkan duplikasi data"
   ]
  },
  {
   "cell_type": "code",
   "execution_count": 37,
   "metadata": {},
   "outputs": [],
   "source": [
    "dataset_df.drop_duplicates(inplace=True)"
   ]
  },
  {
   "cell_type": "code",
   "execution_count": 38,
   "metadata": {},
   "outputs": [
    {
     "name": "stdout",
     "output_type": "stream",
     "text": [
      "Jumlah duplikasi:  0\n"
     ]
    }
   ],
   "source": [
    "print(\"Jumlah duplikasi: \", dataset_df.duplicated().sum())"
   ]
  },
  {
   "cell_type": "code",
   "execution_count": 57,
   "metadata": {},
   "outputs": [],
   "source": [
    "data_df = dataset_df\n",
    "data_df\n",
    "data_df.to_csv('dataset capstone clean.csv', index=False)"
   ]
  },
  {
   "cell_type": "markdown",
   "metadata": {},
   "source": [
    "Menangani Missing Value"
   ]
  },
  {
   "cell_type": "code",
   "execution_count": null,
   "metadata": {},
   "outputs": [
    {
     "data": {
      "text/plain": [
       "location\n",
       "Kab. Bandung                                       122\n",
       "Kota Depok                                         117\n",
       "Pancoran Mas, Depok Kota, Jawa Barat               109\n",
       "Kota Jakarta Timur                                 106\n",
       "Kota Denpasar                                       93\n",
       "                                                  ... \n",
       "Kebon Jeruk, Jakarta Barat, Jakarta D.K.I.           1\n",
       "Kebayoran Baru, Jakarta Selatan, Jakarta D.K.I.      1\n",
       "Cibubur, Jakarta Timur, Jakarta D.K.I.               1\n",
       "Ciracas, Jakarta Timur, Jakarta D.K.I.               1\n",
       "Pasar Rebo, Jakarta Timur, Jakarta D.K.I.            1\n",
       "Name: count, Length: 257, dtype: int64"
      ]
     },
     "execution_count": 40,
     "metadata": {},
     "output_type": "execute_result"
    }
   ],
   "source": [
    "data_df.location.value_counts()"
   ]
  },
  {
   "cell_type": "code",
   "execution_count": 46,
   "metadata": {},
   "outputs": [],
   "source": [
    "data_df.fillna({'location': \"Kab. Bandung\"}, inplace=True)"
   ]
  },
  {
   "cell_type": "code",
   "execution_count": 47,
   "metadata": {},
   "outputs": [
    {
     "data": {
      "text/plain": [
       "tax\n",
       "hidup                    1546\n",
       "Kab. Bandung              110\n",
       "hidup*                     99\n",
       "hidupã                   51\n",
       ":                          36\n",
       "panjang                    35\n",
       "masih                      24\n",
       ",                          22\n",
       ":ab                        19\n",
       "stnk                       17\n",
       "on                         11\n",
       "off                        10\n",
       "baru                       10\n",
       "panjang]                    9\n",
       "&                           5\n",
       "06-2022~                    5\n",
       "11-2023~                    4\n",
       "09-2024~                    4\n",
       "09-2023~                    4\n",
       "11-2022~                    4\n",
       "06-2020~                    4\n",
       "panjang]all                 4\n",
       "tahunan                     3\n",
       "â                         3\n",
       "hiduppemakaian              3\n",
       "cash                        2\n",
       "panjangkondisi              2\n",
       "aman                        2\n",
       "09/08/24masa                2\n",
       "sudah                       2\n",
       "03-                         2\n",
       "panjang-                    2\n",
       "ontertarik                  2\n",
       "02-2025~                    2\n",
       "hidupplat                   2\n",
       "11/11/25masa                2\n",
       "telat                       2\n",
       "hidup.                      2\n",
       "super                       2\n",
       "lewat                       2\n",
       "8                           2\n",
       "lengkapplat                 2\n",
       "onrumah                     2\n",
       "panjangspesifikasinya       2\n",
       "bln                         2\n",
       "07-2024~                    2\n",
       "(on)plat                    2\n",
       "plat                        1\n",
       "03-2021~                    1\n",
       "11-2024~                    1\n",
       "03-2025~                    1\n",
       "12-2022~                    1\n",
       "bulan                       1\n",
       "Name: count, dtype: int64"
      ]
     },
     "execution_count": 47,
     "metadata": {},
     "output_type": "execute_result"
    }
   ],
   "source": [
    "data_df.tax.value_counts()"
   ]
  },
  {
   "cell_type": "code",
   "execution_count": 48,
   "metadata": {},
   "outputs": [],
   "source": [
    "data_df.fillna({'tax': \"Kab. Bandung\"}, inplace=True)"
   ]
  },
  {
   "cell_type": "code",
   "execution_count": 56,
   "metadata": {},
   "outputs": [
    {
     "data": {
      "text/plain": [
       "mileage\n",
       "30,000              610\n",
       "15,000              500\n",
       "7,500               246\n",
       "2,500                98\n",
       "15.000-20.000        72\n",
       "5.000-10.000         61\n",
       "25.000-30.000        59\n",
       "0-5.000              49\n",
       "30.000-35.000        46\n",
       "10.000-15.000        46\n",
       "20.000-25.000        42\n",
       "500                  27\n",
       "35.000-40.000        26\n",
       "40.000-45.000        19\n",
       "55.000-60.000        12\n",
       "45.000-50.000        12\n",
       "50.000-55.000         7\n",
       "65.000-70.000         6\n",
       "NaN                   5\n",
       "95.000-100.000        5\n",
       "85.000-90.000         5\n",
       "80.000-85.000         5\n",
       "60.000-65.000         4\n",
       "120.000-125.000       3\n",
       "75.000-80.000         2\n",
       "100.000-105.000       1\n",
       "70.000-75.000         1\n",
       "Name: count, dtype: int64"
      ]
     },
     "execution_count": 56,
     "metadata": {},
     "output_type": "execute_result"
    }
   ],
   "source": [
    "data_df.mileage.value_counts()"
   ]
  },
  {
   "cell_type": "code",
   "execution_count": 50,
   "metadata": {},
   "outputs": [
    {
     "name": "stdout",
     "output_type": "stream",
     "text": [
      "Langkah 1: Cek data awal\n",
      "Tipe data mileage: object\n",
      "Tipe data price: float64\n",
      "\n",
      "Sample data mileage: 0    15,000\n",
      "1    30,000\n",
      "2    30,000\n",
      "3    30,000\n",
      "4    30,000\n",
      "Name: mileage, dtype: object\n",
      "Sample data price: 0    24800000.0\n",
      "1    18900000.0\n",
      "2    18500000.0\n",
      "3    16600000.0\n",
      "4    17200000.0\n",
      "Name: price, dtype: float64\n",
      "\n",
      "Langkah 2: Cek data setelah dibersihkan\n",
      "Tipe data mileage: float64\n",
      "Tipe data price: float64\n",
      "\n",
      "Statistik mileage:\n",
      "count     1530.000000\n",
      "mean     18237.741830\n",
      "std      10452.654284\n",
      "min          5.000000\n",
      "25%       7500.000000\n",
      "50%      15000.000000\n",
      "75%      30000.000000\n",
      "max      30000.000000\n",
      "Name: mileage, dtype: float64\n",
      "\n",
      "Statistik price:\n",
      "count    2.091000e+03\n",
      "mean     1.970477e+07\n",
      "std      9.634124e+06\n",
      "min      3.500000e+06\n",
      "25%      1.700000e+07\n",
      "50%      2.010000e+07\n",
      "75%      2.210000e+07\n",
      "max      2.950000e+08\n",
      "Name: price, dtype: float64\n",
      "\n",
      "Langkah 3: Hasil korelasi\n",
      "Correlation with price (original data): -0.245\n",
      "Correlation with price (after imputation): -0.172\n"
     ]
    },
    {
     "data": {
      "image/png": "[encoded data removed]",
      "text/plain": [
       "<Figure size 1500x1000 with 4 Axes>"
      ]
     },
     "metadata": {},
     "output_type": "display_data"
    },
    {
     "name": "stdout",
     "output_type": "stream",
     "text": [
      "\n",
      "Original Mileage Statistics:\n",
      "count     1530.000000\n",
      "mean     18237.741830\n",
      "std      10452.654284\n",
      "min          5.000000\n",
      "25%       7500.000000\n",
      "50%      15000.000000\n",
      "75%      30000.000000\n",
      "max      30000.000000\n",
      "Name: mileage, dtype: float64\n",
      "\n",
      "Imputed Mileage Statistics:\n",
      "count     2091.000000\n",
      "mean     18219.701544\n",
      "std       8963.352489\n",
      "min          5.000000\n",
      "25%      15000.000000\n",
      "50%      18237.741830\n",
      "75%      30000.000000\n",
      "max      30000.000000\n",
      "Name: mileage_imputed, dtype: float64\n"
     ]
    }
   ],
   "source": [
    "import pandas as pd\n",
    "import numpy as np\n",
    "import matplotlib.pyplot as plt\n",
    "import seaborn as sns\n",
    "from scipy import stats\n",
    "\n",
    "# Cek data terlebih dahulu\n",
    "print(\"Langkah 1: Cek data awal\")\n",
    "print(\"Tipe data mileage:\", dataset_df['mileage'].dtype)\n",
    "print(\"Tipe data price:\", dataset_df['price'].dtype)\n",
    "print(\"\\nSample data mileage:\", dataset_df['mileage'].head())\n",
    "print(\"Sample data price:\", dataset_df['price'].head())\n",
    "\n",
    "# Bersihkan dan konversi data\n",
    "def clean_data(df):\n",
    "    # Buat copy dari dataframe\n",
    "    df_clean = df.copy()\n",
    "    \n",
    "    # Bersihkan kolom mileage (hilangkan karakter non-numeric)\n",
    "    if df_clean['mileage'].dtype == 'object':\n",
    "        df_clean['mileage'] = df_clean['mileage'].replace('[^0-9.]', '', regex=True)\n",
    "    \n",
    "    # Konversi mileage ke numeric\n",
    "    df_clean['mileage'] = pd.to_numeric(df_clean['mileage'], errors='coerce')\n",
    "    \n",
    "    # Bersihkan kolom price\n",
    "    if df_clean['price'].dtype == 'object':\n",
    "        df_clean['price'] = df_clean['price'].astype(str).str.replace('Rp', '').str.replace('.', '').str.replace(',', '')\n",
    "    \n",
    "    # Konversi price ke numeric\n",
    "    df_clean['price'] = pd.to_numeric(df_clean['price'], errors='coerce')\n",
    "    \n",
    "    return df_clean\n",
    "\n",
    "# Bersihkan data\n",
    "olx_df_clean = clean_data(dataset_df)\n",
    "\n",
    "print(\"\\nLangkah 2: Cek data setelah dibersihkan\")\n",
    "print(\"Tipe data mileage:\", olx_df_clean['mileage'].dtype)\n",
    "print(\"Tipe data price:\", olx_df_clean['price'].dtype)\n",
    "print(\"\\nStatistik mileage:\")\n",
    "print(olx_df_clean['mileage'].describe())\n",
    "print(\"\\nStatistik price:\")\n",
    "print(olx_df_clean['price'].describe())\n",
    "\n",
    "# Lakukan imputasi\n",
    "def impute_mileage(df):\n",
    "    # Hitung rata-rata berdasarkan grup\n",
    "    group_means = df.groupby(['year', 'model'])['mileage'].transform('mean')\n",
    "    model_means = df.groupby(['model'])['mileage'].transform('mean')\n",
    "    total_mean = df['mileage'].mean()\n",
    "    \n",
    "    # Imputasi bertahap\n",
    "    df['mileage_imputed'] = df['mileage'].fillna(group_means)\n",
    "    df['mileage_imputed'] = df['mileage_imputed'].fillna(model_means)\n",
    "    df['mileage_imputed'] = df['mileage_imputed'].fillna(total_mean)\n",
    "    \n",
    "    df['is_imputed'] = df['mileage'].isna()\n",
    "    \n",
    "    return df\n",
    "\n",
    "# Lakukan imputasi\n",
    "olx_df_imputed = impute_mileage(olx_df_clean)\n",
    "\n",
    "# Hitung korelasi (hanya untuk data yang valid)\n",
    "corr_original = olx_df_imputed[olx_df_imputed['mileage'].notna()]['mileage'].corr(\n",
    "    olx_df_imputed[olx_df_imputed['mileage'].notna()]['price']\n",
    ")\n",
    "corr_imputed = olx_df_imputed[olx_df_imputed['mileage_imputed'].notna()]['mileage_imputed'].corr(\n",
    "    olx_df_imputed[olx_df_imputed['mileage_imputed'].notna()]['price']\n",
    ")\n",
    "\n",
    "print(\"\\nLangkah 3: Hasil korelasi\")\n",
    "print(f\"Correlation with price (original data): {corr_original:.3f}\")\n",
    "print(f\"Correlation with price (after imputation): {corr_imputed:.3f}\")\n",
    "\n",
    "# Visualisasi\n",
    "plt.figure(figsize=(15, 10))\n",
    "\n",
    "# Plot 1: Scatter plot\n",
    "valid_data = olx_df_imputed.dropna(subset=['mileage_imputed', 'price'])\n",
    "plt.subplot(2, 2, 1)\n",
    "sns.scatterplot(data=valid_data[~valid_data['is_imputed']], \n",
    "                x='mileage', y='price', \n",
    "                label='Original Data', alpha=0.6)\n",
    "sns.scatterplot(data=valid_data[valid_data['is_imputed']], \n",
    "                x='mileage_imputed', y='price', \n",
    "                label='Imputed Data', alpha=0.6, color='red')\n",
    "plt.title('Price vs Mileage (Original and Imputed)')\n",
    "plt.xlabel('Mileage')\n",
    "plt.ylabel('Price (Rp)')\n",
    "\n",
    "# Plot 2: Box plot distribusi\n",
    "valid_melted = pd.melt(valid_data[['mileage', 'mileage_imputed']])\n",
    "plt.subplot(2, 2, 2)\n",
    "sns.boxplot(x='variable', y='value', data=valid_melted)\n",
    "plt.title('Distribution Comparison: Original vs Imputed Mileage')\n",
    "\n",
    "# Plot 3: Histogram\n",
    "plt.subplot(2, 2, 3)\n",
    "plt.hist(valid_data[valid_data['mileage'].notna()]['mileage'], \n",
    "         alpha=0.5, label='Original', bins=30)\n",
    "plt.hist(valid_data['mileage_imputed'], \n",
    "         alpha=0.5, label='Imputed', bins=30)\n",
    "plt.title('Histogram: Original vs Imputed Mileage')\n",
    "plt.legend()\n",
    "\n",
    "# Plot 4: Price distribution\n",
    "plt.subplot(2, 2, 4)\n",
    "sns.boxplot(x='is_imputed', y='price', data=valid_data)\n",
    "plt.title('Price Distribution by Imputation Status')\n",
    "\n",
    "plt.tight_layout()\n",
    "plt.show()\n",
    "\n",
    "# Print summary statistics\n",
    "print(\"\\nOriginal Mileage Statistics:\")\n",
    "print(valid_data['mileage'].describe())\n",
    "print(\"\\nImputed Mileage Statistics:\")\n",
    "print(valid_data['mileage_imputed'].describe())"
   ]
  },
  {
   "cell_type": "code",
   "execution_count": null,
   "metadata": {},
   "outputs": [
    {
     "ename": "TypeError",
     "evalue": "unhashable type: 'list'",
     "output_type": "error",
     "traceback": [
      "\u001b[1;31m---------------------------------------------------------------------------\u001b[0m",
      "\u001b[1;31mTypeError\u001b[0m                                 Traceback (most recent call last)",
      "Cell \u001b[1;32mIn[55], line 7\u001b[0m\n\u001b[0;32m      5\u001b[0m \u001b[38;5;66;03m# Imputer untuk price\u001b[39;00m\n\u001b[0;32m      6\u001b[0m imputer_price \u001b[38;5;241m=\u001b[39m SimpleImputer(strategy\u001b[38;5;241m=\u001b[39m\u001b[38;5;124m'\u001b[39m\u001b[38;5;124mmedian\u001b[39m\u001b[38;5;124m'\u001b[39m)\n\u001b[1;32m----> 7\u001b[0m price_imputed \u001b[38;5;241m=\u001b[39m imputer_price\u001b[38;5;241m.\u001b[39mfit_transform(\u001b[43mdata\u001b[49m\u001b[43m[\u001b[49m\u001b[43m[\u001b[49m\u001b[38;5;124;43m'\u001b[39;49m\u001b[38;5;124;43mprice\u001b[39;49m\u001b[38;5;124;43m'\u001b[39;49m\u001b[43m]\u001b[49m\u001b[43m]\u001b[49m)\n\u001b[0;32m      9\u001b[0m \u001b[38;5;66;03m# Pilih data yang tidak missing\u001b[39;00m\n\u001b[0;32m     10\u001b[0m mask_known \u001b[38;5;241m=\u001b[39m data[\u001b[38;5;124m'\u001b[39m\u001b[38;5;124mmileage\u001b[39m\u001b[38;5;124m'\u001b[39m]\u001b[38;5;241m.\u001b[39mnotna()\n",
      "\u001b[1;31mTypeError\u001b[0m: unhashable type: 'list'"
     ]
    }
   ],
   "source": [
    "import numpy as np\n",
    "from sklearn.linear_model import LinearRegression\n",
    "\n",
    "# Pisahkan data yang tidak memiliki missing value\n",
    "data_known = data_df[data_df['mileage'].notna()]\n",
    "\n",
    "\n",
    "# Buat model regresi\n",
    "model = LinearRegression()\n",
    "model.fit(data_known[['price']], data_known['mileage'])\n",
    "\n",
    "# Estimasi missing value\n",
    "data_df.loc[data_df['mileage'].isna(), 'mileage'] = model.predict(data_df.loc[data_df['mileage'].isna(), ['price']])"
   ]
  }
 ],
 "metadata": {
  "kernelspec": {
   "display_name": "Python 3",
   "language": "python",
   "name": "python3"
  },
  "language_info": {
   "codemirror_mode": {
    "name": "ipython",
    "version": 3
   },
   "file_extension": ".py",
   "mimetype": "text/x-python",
   "name": "python",
   "nbconvert_exporter": "python",
   "pygments_lexer": "ipython3",
   "version": "3.13.0"
  }
 },
 "nbformat": 4,
 "nbformat_minor": 2
}
